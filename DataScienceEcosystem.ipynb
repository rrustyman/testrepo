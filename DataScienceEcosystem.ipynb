{
 "cells": [
  {
   "cell_type": "markdown",
   "id": "46882f3e-0515-4108-afee-e83ddc956666",
   "metadata": {},
   "source": [
    "# Data Science Tools and Ecosystem"
   ]
  },
  {
   "cell_type": "markdown",
   "id": "3bce2dd3-3f65-4253-833d-a57ccba5eab8",
   "metadata": {},
   "source": [
    "#### In this notebook, we will be summarizing the tools and ecosystems of data science"
   ]
  },
  {
   "cell_type": "markdown",
   "id": "6a8c0982-e966-47b5-9376-1b0c6f11aeb4",
   "metadata": {},
   "source": [
    "***Objectives:***\n",
    "\n",
    "- Summarizing some languages that data scientists use\n",
    "- Summarizing some libraries that data scientists use\n",
    "- Displaying how arithmetic is expressed in pythong"
   ]
  },
  {
   "cell_type": "markdown",
   "id": "799e0719-f18f-43b0-aea6-fcb4a360bbac",
   "metadata": {},
   "source": [
    "### Some of the popular languages that Data Scientists use are:\n",
    "1. Python\n",
    "2. R\n",
    "3. C++\n",
    "4. Julia"
   ]
  },
  {
   "cell_type": "markdown",
   "id": "af5b4467-c390-4ad2-9519-861ef65596c4",
   "metadata": {},
   "source": [
    "### Some of the commonly used libraries used by Data Scientists include:\n",
    "1. Numpy\n",
    "2. Pandas\n",
    "3. Tensor Flow"
   ]
  },
  {
   "cell_type": "markdown",
   "id": "6044a354-551f-4bcc-a42d-6c03a2e0e7c1",
   "metadata": {},
   "source": [
    "|  Data Science Tools|\n",
    "| -------------------|\n",
    "| Apache Spark |\n",
    "| Jupyter Notebook |\n",
    "| R |"
   ]
  },
  {
   "cell_type": "markdown",
   "id": "109b1c3d-7fb7-412d-ad78-288d7d9d5d74",
   "metadata": {},
   "source": [
    "### Below are a few examples of evaluating arithmetic expressions in Python"
   ]
  },
  {
   "cell_type": "markdown",
   "id": "ebe81b25-5587-4653-8a61-4fdf97a28eb9",
   "metadata": {
    "tags": []
   },
   "source": [
    "This a simple arithmetic expression to mutiply then add integers"
   ]
  },
  {
   "cell_type": "code",
   "execution_count": 24,
   "id": "1a8b059d-0b7f-4982-82d9-089415e7859e",
   "metadata": {
    "tags": []
   },
   "outputs": [
    {
     "data": {
      "text/plain": [
       "17"
      ]
     },
     "execution_count": 24,
     "metadata": {},
     "output_type": "execute_result"
    }
   ],
   "source": [
    "(3*4)+5"
   ]
  },
  {
   "cell_type": "markdown",
   "id": "fd977a8c-7ea1-4727-b30a-c39e317dfbf9",
   "metadata": {},
   "source": [
    "This will convert 200 minutes to hours by dividng by 60"
   ]
  },
  {
   "cell_type": "code",
   "execution_count": 38,
   "id": "153d4e99-a204-481d-a007-7bfa9519f063",
   "metadata": {
    "tags": []
   },
   "outputs": [
    {
     "data": {
      "text/plain": [
       "3.3333333333333335"
      ]
     },
     "execution_count": 38,
     "metadata": {},
     "output_type": "execute_result"
    }
   ],
   "source": [
    "200/60"
   ]
  },
  {
   "cell_type": "markdown",
   "id": "861dc7d1-f807-40c6-9d5c-510e9cc54368",
   "metadata": {},
   "source": [
    "### Author\n",
    "## Rhuaraidh Wright Steedman"
   ]
  },
  {
   "cell_type": "code",
   "execution_count": null,
   "id": "4f345517-bbea-469f-b08f-1a290f8aef95",
   "metadata": {},
   "outputs": [],
   "source": []
  }
 ],
 "metadata": {
  "kernelspec": {
   "display_name": "Python 3 (ipykernel)",
   "language": "python",
   "name": "python3"
  },
  "language_info": {
   "codemirror_mode": {
    "name": "ipython",
    "version": 3
   },
   "file_extension": ".py",
   "mimetype": "text/x-python",
   "name": "python",
   "nbconvert_exporter": "python",
   "pygments_lexer": "ipython3",
   "version": "3.11.7"
  }
 },
 "nbformat": 4,
 "nbformat_minor": 5
}
